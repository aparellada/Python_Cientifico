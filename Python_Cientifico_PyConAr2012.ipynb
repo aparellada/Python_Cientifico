{
 "metadata": {
  "name": "Python_Cientifico_PyConAr2012"
 },
 "nbformat": 3,
 "nbformat_minor": 0,
 "worksheets": [
  {
   "cells": [
    {
     "cell_type": "markdown",
     "metadata": {},
     "source": [
      "Introducci\u00f3n a Python Cient\u00edfico.\n",
      "================================="
     ]
    },
    {
     "cell_type": "markdown",
     "metadata": {},
     "source": [
      "----"
     ]
    },
    {
     "cell_type": "markdown",
     "metadata": {},
     "source": [
      "1.1 - \u00bfQui\u00e9n les habla?\n",
      "-----------------------"
     ]
    },
    {
     "cell_type": "markdown",
     "metadata": {},
     "source": [
      "* Dami\u00e1n Avila.\n",
      "* Bioqu\u00edmico. Docente. Doctorando.\n",
      "* Esencialmente, Curioso... \n",
      "* Hobby (?): Estad\u00edstica y finanzas, tanto como para construir modelos cuantitativos financieros usando... adivinen... Python."
     ]
    },
    {
     "cell_type": "markdown",
     "metadata": {},
     "source": [
      "----"
     ]
    },
    {
     "cell_type": "markdown",
     "metadata": {},
     "source": [
      "1.2 - \u00bfQu\u00e9 hace un cient\u00edfico?\n",
      "------------------------------"
     ]
    },
    {
     "cell_type": "markdown",
     "metadata": {},
     "source": [
      "* Obtiene datos de un experimento o una simulaci\u00f3n.\n",
      "* Manipula y procesa los datos obtenidos.\n",
      "* Visualiza los resultados (para tratar de entender que es lo que est\u00e1 pasando).\n",
      "* Comunica los resultados (presentaciones, papers, libros, etc)."
     ]
    },
    {
     "cell_type": "markdown",
     "metadata": {},
     "source": [
      "----"
     ]
    },
    {
     "cell_type": "markdown",
     "metadata": {},
     "source": [
      "1.3 - \u00bfQu\u00e9 necesita un cient\u00edfico?\n",
      "----------------------------------"
     ]
    },
    {
     "cell_type": "markdown",
     "metadata": {},
     "source": [
      "* Un lenguaje f\u00e1cil de aprender.\n",
      "* Un lenguaje que tenga versatilidad.\n",
      "* Un lenguaje con una sint\u00e1xis simple y de alto nivel.\n",
      "* Una colecci\u00f3n de herramientas b\u00e1sicas para el tratamiento y visualizaci\u00f3n de datos.\n",
      "* Un tiempo de desarrollo reducido y un tiempo de ejecuci\u00f3n r\u00e1pido."
     ]
    },
    {
     "cell_type": "markdown",
     "metadata": {},
     "source": [
      "----"
     ]
    },
    {
     "cell_type": "markdown",
     "metadata": {},
     "source": [
      "1.4 - \u00bfCu\u00e1les son las alternativas?\n",
      "-----------------------------------"
     ]
    },
    {
     "cell_type": "markdown",
     "metadata": {},
     "source": [
      "**Lenguajes *compilados*: C, C++, Fortran.**\n",
      "\n",
      "Ventajas:\n",
      "\n",
      "* R\u00e1pidos.\n",
      "* Compiladores *super* optimizados.\n",
      "* Librer\u00edas cient\u00edficas optimizadas."
     ]
    },
    {
     "cell_type": "markdown",
     "metadata": {},
     "source": [
      "----"
     ]
    },
    {
     "cell_type": "markdown",
     "metadata": {},
     "source": [
      "1.4 - \u00bfCu\u00e1les son las alternativas?\n",
      "-----------------------------------"
     ]
    },
    {
     "cell_type": "markdown",
     "metadata": {},
     "source": [
      "**Lenguajes *compilados*: C, C++, Fortran.**\n",
      "\n",
      "Desventajas:\n",
      "\n",
      "* No hay interactividad durante el desarrollo y, necesariamente, hay que compilar.\n",
      "* Sint\u00e1xis compleja.\n",
      "* Manejo manual de la memoria."
     ]
    },
    {
     "cell_type": "markdown",
     "metadata": {},
     "source": [
      "----"
     ]
    },
    {
     "cell_type": "markdown",
     "metadata": {},
     "source": [
      "1.4 - \u00bfCu\u00e1les son las alternativas?\n",
      "-----------------------------------"
     ]
    },
    {
     "cell_type": "markdown",
     "metadata": {},
     "source": [
      "**Lenguajes para *scripting*: Matlab.**\n",
      "\n",
      "Ventajas:\n",
      "\n",
      "* M\u00faltiples librer\u00edas con numerosos algoritmos para la resoluci\u00f3n de diferentes problemas.\n",
      "* Una r\u00e1pida ejecuci\u00f3n debido a que las librer\u00edas normalmente est\u00e1n escritas en un lenjuaje compilado.\n",
      "* Un entorno de desarrollo *agradable* y funcional.\n",
      "* Soporte comercial disponible."
     ]
    },
    {
     "cell_type": "markdown",
     "metadata": {},
     "source": [
      "----"
     ]
    },
    {
     "cell_type": "markdown",
     "metadata": {},
     "source": [
      "1.4 - \u00bfCu\u00e1les son las alternativas?\n",
      "-----------------------------------"
     ]
    },
    {
     "cell_type": "markdown",
     "metadata": {},
     "source": [
      "**Lenguajes para *scripting*: Matlab.**\n",
      "\n",
      "Desventajas:\n",
      "\n",
      "* El lenguaje de base puede ser restrictivo para usuarios avanzados.\n",
      "* \"Hay que poner la papota\""
     ]
    },
    {
     "cell_type": "markdown",
     "metadata": {},
     "source": [
      "----"
     ]
    },
    {
     "cell_type": "markdown",
     "metadata": {},
     "source": [
      "1.4 - \u00bfCu\u00e1les son las alternativas?\n",
      "-----------------------------------"
     ]
    },
    {
     "cell_type": "markdown",
     "metadata": {},
     "source": [
      "**M\u00e1s lenguajes para *scripting*: Scilab, Octave, R, Julia, etc.**\n",
      "\n",
      "Ventajas:\n",
      "\n",
      "* C\u00f3digo abierto y gratuitos.\n",
      "* Algunas caracter\u00edsticas pueden ser muy enfocadas y avanzadas (pj: estad\u00edstica y R)."
     ]
    },
    {
     "cell_type": "markdown",
     "metadata": {},
     "source": [
      "----"
     ]
    },
    {
     "cell_type": "markdown",
     "metadata": {},
     "source": [
      "1.4 - \u00bfCu\u00e1les son las alternativas?\n",
      "-----------------------------------"
     ]
    },
    {
     "cell_type": "markdown",
     "metadata": {},
     "source": [
      "**M\u00e1s lenguajes para *scripting*: Scilab, Octave, R, Julia, etc.**\n",
      "\n",
      "Desventajas:\n",
      "\n",
      "* Menos algoritmos disponibles en comparaci\u00f3n a Matlab.\n",
      "* El lenguaje de base puede ser restrictivo para usuarios avanzados.\n",
      "* Algunas caracter\u00edsticas pueden ser muy enfocadas y avanzadas (pj: gr\u00e1ficos y Gnuplot)."
     ]
    },
    {
     "cell_type": "markdown",
     "metadata": {},
     "source": [
      "----"
     ]
    },
    {
     "cell_type": "markdown",
     "metadata": {},
     "source": [
      "1.5 - Che... y Python?\n",
      "----------------------"
     ]
    },
    {
     "cell_type": "markdown",
     "metadata": {},
     "source": [
      "Ventajas:\n",
      "\n",
      "* Muchas librerias cient\u00edficas.\n",
      "* Sintaxis simple, que permite escribir c\u00f3digo bien estructurado y f\u00e1cil de leer.\n",
      "* Muchas librerias \"complementarias\" que permiten realizar otras tareas adicionales y necesarias.\n",
      "* C\u00f3digo abierto y gratuito.\n",
      "* Popular.\n",
      "* Gran comunidad soportando el desarrollo y evoluci\u00f3n del lenguaje."
     ]
    },
    {
     "cell_type": "markdown",
     "metadata": {},
     "source": [
      "----"
     ]
    },
    {
     "cell_type": "markdown",
     "metadata": {},
     "source": [
      "1.5 - Che... y Python?\n",
      "----------------------"
     ]
    },
    {
     "cell_type": "markdown",
     "metadata": {},
     "source": [
      "Desventajas:\n",
      "\n",
      "* Un entorno de desarrollo menos *agradable* comparado con Matlab (**totalmente discutible...**). \n",
      "* Algunos algoritmos especializados todav\u00eda no se han desarrollado (**pero no falta mucho...**)."
     ]
    },
    {
     "cell_type": "markdown",
     "metadata": {},
     "source": [
      "----"
     ]
    },
    {
     "cell_type": "markdown",
     "metadata": {},
     "source": [
      "1.6 - Python *cient\u00edfico*.\n",
      "--------------------------"
     ]
    },
    {
     "cell_type": "markdown",
     "metadata": {},
     "source": [
      "* Python, un leguaje gen\u00e9rico y moderno.\n",
      "* IPython, un interprete interactivo avanzado, un web-notebook, una infraestructura para *computaci\u00f3n* en paralelo.\n",
      "* Numpy, objetos tipo arreglos y rutinas para manipularlos.\n",
      "* Scipy, librer\u00edas para procesamiento de datos de alto nivel: optimizaci\u00f3n, regresi\u00f3n, interpolaci\u00f3n, etc.\n",
      "* Matplotlib, visualizaci\u00f3n 2D: \"plots\" listos para la publicaci\u00f3n."
     ]
    },
    {
     "cell_type": "markdown",
     "metadata": {},
     "source": [
      "----"
     ]
    },
    {
     "cell_type": "markdown",
     "metadata": {},
     "source": [
      "2.1 - IPython.\n",
      "--------------"
     ]
    },
    {
     "cell_type": "markdown",
     "metadata": {},
     "source": [
      "**Es una poderosa herramienta para la *computaci\u00f3n* cient\u00edfica interactiva y exploratoria.**\n",
      "\n",
      "* Interpretes interactivos *poderosos* (terminal y basada en Qt).\n",
      "* Un web-notebook con las mismas funcionalidades b\u00e1sicas que los interpretes interactivos pero con soporte para video, texto, c\u00f3digo, expresiones matematicas y plot embebidos.\n",
      "* Soporte para la visualizaci\u00f3n interactiva de datos y uso de bibliotecas GUI.\n",
      "* Herramientas de alta performance para la cumputaci\u00f3n en paralelo."
     ]
    },
    {
     "cell_type": "markdown",
     "metadata": {},
     "source": [
      "----"
     ]
    },
    {
     "cell_type": "markdown",
     "metadata": {},
     "source": [
      "2.2 - Clientes de IPython\n",
      "-------------------------"
     ]
    },
    {
     "cell_type": "markdown",
     "metadata": {},
     "source": [
      "* Consola.\n",
      "* Consola Qt.\n",
      "* Web-notebook: Es donde escrib\u00ed esta presentaci\u00f3n (rendered by vIPer)."
     ]
    },
    {
     "cell_type": "markdown",
     "metadata": {},
     "source": [
      "----"
     ]
    },
    {
     "cell_type": "markdown",
     "metadata": {},
     "source": [
      "2.3 - Computaci\u00f3n en paralelo.\n",
      "------------------------------"
     ]
    },
    {
     "cell_type": "markdown",
     "metadata": {},
     "source": [
      "En los \u00faltimos 3 a\u00f1os, IPython a desarrollado toda una arquitectura dise\u00f1anda especificamente para soportar computaci\u00f3n en paralelo."
     ]
    },
    {
     "cell_type": "markdown",
     "metadata": {},
     "source": [
      "Un tema muy interesante pero fuera del \"scope\" de esta charla... si est\u00e1n interesados pueden visitar http://ipython.org"
     ]
    },
    {
     "cell_type": "markdown",
     "metadata": {},
     "source": [
      "----"
     ]
    },
    {
     "cell_type": "markdown",
     "metadata": {},
     "source": [
      "Juguemos un poco...\n",
      "-------------------"
     ]
    },
    {
     "cell_type": "markdown",
     "metadata": {},
     "source": [
      "----"
     ]
    },
    {
     "cell_type": "markdown",
     "metadata": {},
     "source": [
      "http://damianavila.github.com/Python_Cientifico/Python_Cientifico_ipython_complete.html"
     ]
    },
    {
     "cell_type": "markdown",
     "metadata": {},
     "source": [
      "----"
     ]
    },
    {
     "cell_type": "markdown",
     "metadata": {},
     "source": [
      "3.1 - Numpy.\n",
      "------------"
     ]
    },
    {
     "cell_type": "markdown",
     "metadata": {},
     "source": [
      "* Python tiene listas, enteros, punto flotante, etc. Para c\u00e1lculo num\u00e9rico necesitamos m\u00e1s... all\u00ed aparece Numpy.\n",
      "* Numpy es un paquete que provee a Python con arreglos multidimensionales de alta eficiencia y dise\u00f1ados para c\u00e1lculo cient\u00edfico.\n",
      "* Un array puede contener:\n",
      "    * tiempos discretos de un experimento o simulaci\u00f3n. \n",
      "    * se\u00f1ales grabadas por un instrumento de medida.\n",
      "    * pixeles de una imagen, etc."
     ]
    },
    {
     "cell_type": "markdown",
     "metadata": {},
     "source": [
      "----"
     ]
    },
    {
     "cell_type": "markdown",
     "metadata": {},
     "source": [
      "http://damianavila.github.com/Python_Cientifico/Python_Cientifico_numpy_complete.html"
     ]
    },
    {
     "cell_type": "markdown",
     "metadata": {},
     "source": [
      "----"
     ]
    },
    {
     "cell_type": "markdown",
     "metadata": {},
     "source": [
      "4.1 - Scipy.\n",
      "------------"
     ]
    },
    {
     "cell_type": "markdown",
     "metadata": {},
     "source": [
      "* Scipy contiene varias herramientas para realizar tareas *comunes* en el ambiente cient\u00edfico. \n",
      "* Provee de diferentes submodulos espec\u00edficos para distintas aplicaciones:\n",
      "    * cluster >>> Vector quantization / Kmeans\n",
      "    * fftpack >>>\tFourier transform\n",
      "    * integrate >>>\tIntegration routines\n",
      "    * interpolate >>>\tInterpolation"
     ]
    },
    {
     "cell_type": "markdown",
     "metadata": {},
     "source": [
      "----"
     ]
    },
    {
     "cell_type": "markdown",
     "metadata": {},
     "source": [
      "4.1 - Scipy.\n",
      "------------"
     ]
    },
    {
     "cell_type": "markdown",
     "metadata": {},
     "source": [
      "* Provee de diferentes submodulos espec\u00edficos para distintas aplicaciones:\n",
      "    * io >>>\tData input and output\n",
      "    * linalg >>>\tLinear algebra routines\n",
      "    * maxentropy >>>\tRoutines for fitting maximum entropy models\n",
      "    * ndimage >>>\tn-dimensional image package\n",
      "    * odr >>>\tOrthogonal distance regression\n",
      "    * optimize >>>\tOptimization"
     ]
    },
    {
     "cell_type": "markdown",
     "metadata": {},
     "source": [
      "----"
     ]
    },
    {
     "cell_type": "markdown",
     "metadata": {},
     "source": [
      "4.1 - Scipy.\n",
      "------------"
     ]
    },
    {
     "cell_type": "markdown",
     "metadata": {},
     "source": [
      "* Provee de diferentes submodulos espec\u00edficos para distintas aplicaciones:\n",
      "\n",
      "    * signal >>>\tSignal processing\n",
      "    * sparse >>>\tSparse matrices\n",
      "    * spatial >>>\tSpatial data structures and algorithms\n",
      "    * special >>>\tAny special mathematical functions\n",
      "    * stats >>>\tStatistics\n",
      "\n",
      "* Scipy est\u00e1 basado y hace un uso extensivo de los arreglos provistos por Numpy."
     ]
    },
    {
     "cell_type": "markdown",
     "metadata": {},
     "source": [
      "----"
     ]
    },
    {
     "cell_type": "markdown",
     "metadata": {},
     "source": [
      "http://damianavila.github.com/Python_Cientifico/Python_Cientifico_scipy_complete.html"
     ]
    },
    {
     "cell_type": "markdown",
     "metadata": {},
     "source": [
      "----"
     ]
    },
    {
     "cell_type": "markdown",
     "metadata": {},
     "source": [
      "5.1 - Matplotlib.\n",
      "-----------------"
     ]
    },
    {
     "cell_type": "markdown",
     "metadata": {},
     "source": [
      "* Matplotlib es el paquete m\u00e1s usado en la comunidad de Python para graficar en 2D. Provee una visualizaci\u00f3n r\u00e1pida de los datos a analizar y las figuras obtenidas (en varios formatos diponibles) son publicables.\n",
      "* pylab provee de una interface procedural a la librer\u00eda matplotlib (orientada a objetos), con una sintaxis muy cercana a la disponible en Matlab.\n",
      "* IPython provee un modo (--pylab) que permite disponer de las figuras durante la sesi\u00f3n interactiva."
     ]
    },
    {
     "cell_type": "markdown",
     "metadata": {},
     "source": [
      "----"
     ]
    },
    {
     "cell_type": "markdown",
     "metadata": {},
     "source": [
      "http://damianavila.github.com/Python_Cientifico/Python_Cientifico_matplotlib_complete.html"
     ]
    },
    {
     "cell_type": "markdown",
     "metadata": {},
     "source": [
      "----"
     ]
    },
    {
     "cell_type": "markdown",
     "metadata": {},
     "source": [
      "5.3 - Otros tipos de plots: Galer\u00eda.\n",
      "------------------------------------"
     ]
    },
    {
     "cell_type": "markdown",
     "metadata": {},
     "source": [
      "http://matplotlib.sourceforge.net/gallery"
     ]
    },
    {
     "cell_type": "markdown",
     "metadata": {},
     "source": [
      "----"
     ]
    },
    {
     "cell_type": "markdown",
     "metadata": {},
     "source": [
      "6 - Herramientas avanzadas.\n",
      "-----------------------------"
     ]
    },
    {
     "cell_type": "markdown",
     "metadata": {},
     "source": [
      "http://pandas.pydata.org"
     ]
    },
    {
     "cell_type": "markdown",
     "metadata": {},
     "source": [
      "http://statsmodels.sourceforge.net"
     ]
    },
    {
     "cell_type": "markdown",
     "metadata": {},
     "source": [
      "http://scikit-learn.org/stable"
     ]
    },
    {
     "cell_type": "markdown",
     "metadata": {},
     "source": [
      "----"
     ]
    },
    {
     "cell_type": "markdown",
     "metadata": {},
     "source": [
      "7- Performance\n",
      "--------------"
     ]
    },
    {
     "cell_type": "markdown",
     "metadata": {},
     "source": [
      "* Cython: extensiones en C para Python. \n",
      "http://www.cython.org\n",
      "* PyPy: implementaci\u00f3n de Python en Python (compilador JIT).\n",
      "http://pypy.org\n",
      "* Numba: convierte c\u00f3digo Python a c\u00f3digo LLVM code que luego es ejecutado.\n",
      "http://numba.pydata.org"
     ]
    },
    {
     "cell_type": "markdown",
     "metadata": {},
     "source": [
      "----"
     ]
    },
    {
     "cell_type": "markdown",
     "metadata": {},
     "source": [
      "8- Obtenci\u00f3n de las herramientas.\n",
      "---------------------------------"
     ]
    },
    {
     "cell_type": "markdown",
     "metadata": {},
     "source": [
      "* GNU-LINUX\n",
      "\n",
      "$ sudo apt-get install python-scipy python-matplotlib\n",
      "\n",
      "$ sudo pip install pandas scikit-learn statsmodels\n",
      "\n",
      "$ sudo pip install ipython[zmq,qtconsole,notebook,test]\n",
      "\n",
      "$ sudo apt-get install python-qt4 python-pygments"
     ]
    },
    {
     "cell_type": "markdown",
     "metadata": {},
     "source": [
      "----"
     ]
    },
    {
     "cell_type": "markdown",
     "metadata": {},
     "source": [
      "8- Obtenci\u00f3n de las herramientas.\n",
      "---------------------------------"
     ]
    },
    {
     "cell_type": "markdown",
     "metadata": {},
     "source": [
      "* Python(X,Y) http://code.google.com/p/pythonxy\n",
      "* EPD Free (Enthough Python Distribution) http://www.enthought.com\n",
      "* Anaconda (Continuum) http://continuum.io\n",
      "* Ospy (Omicron Python Distribution)... muy pronto (OQUANTA... o sea /me)"
     ]
    },
    {
     "cell_type": "markdown",
     "metadata": {},
     "source": [
      "----"
     ]
    },
    {
     "cell_type": "markdown",
     "metadata": {},
     "source": [
      "9- Ejemplos y materiales.\n",
      "-------------------------\n",
      "\n",
      "http://jakevdp.github.com/blog/2012/08/18/matplotlib-animation-tutorial\n",
      "\n",
      "http://scipy-lectures.github.com\n",
      "\n",
      "http://pyvideo.org/category/18/pydata-2012\n",
      "\n",
      "Videos de conferencias Scipy en Youtube.\n",
      "\n",
      "Mucha gente: Fernando Perez, Wes Mackinney, Travis Oliphant, Peter Wang, Josua Bloom, Titus Brown... y muchos m\u00e1s! "
     ]
    },
    {
     "cell_type": "markdown",
     "metadata": {},
     "source": [
      "----"
     ]
    },
    {
     "cell_type": "markdown",
     "metadata": {},
     "source": [
      "10- Conclusiones.\n",
      "-----------------"
     ]
    },
    {
     "cell_type": "markdown",
     "metadata": {},
     "source": [
      "* Python se ha convertido en el lenguaje de elecci\u00f3n dentro del \u00e1mbito cient\u00edfico (salvando ciertos *nichos* y en ciencias de la computaci\u00f3n) debido a la multiplicidad de herramientas que brinda, a la potencialidad en el perfeccionamiento de las mismas y la continua generaci\u00f3n de nuevos modulos cada vez m\u00e1s especializados."
     ]
    },
    {
     "cell_type": "markdown",
     "metadata": {},
     "source": [
      "* Claro, existen problemas para resolver y algunas cuestiones t\u00e9cnicas que desarrollar (no todo es color de rosa...)."
     ]
    },
    {
     "cell_type": "markdown",
     "metadata": {},
     "source": [
      "----"
     ]
    },
    {
     "cell_type": "markdown",
     "metadata": {},
     "source": [
      "10- Conclusiones.\n",
      "-----------------"
     ]
    },
    {
     "cell_type": "markdown",
     "metadata": {},
     "source": [
      "* Sin embargo, las perspectivas son muy altas, lo cual se ve reflejado no s\u00f3lo en la proliferaci\u00f3n de cient\u00edficos que usan Python en su trabajo diario, sino tambi\u00e9n en la organizaci\u00f3n de conferencias espec\u00edficas a nivel internacional (SciPy, EuroSciPy, etc) y en el aumento del n\u00famero de publicaciones con c\u00f3digo escrito en Python."
     ]
    },
    {
     "cell_type": "markdown",
     "metadata": {},
     "source": [
      "* Muchas empresas e industrias se valen de las mismas herramientas para el desarrollo o an\u00e1lisis de sus procesos productivos."
     ]
    },
    {
     "cell_type": "markdown",
     "metadata": {},
     "source": [
      "----"
     ]
    },
    {
     "cell_type": "markdown",
     "metadata": {},
     "source": [
      "11 - Contacto.\n",
      "--------------"
     ]
    },
    {
     "cell_type": "markdown",
     "metadata": {},
     "source": [
      "Dami\u00e1n Avila\n",
      "------------"
     ]
    },
    {
     "cell_type": "markdown",
     "metadata": {},
     "source": [
      "* web: www.oquanta.info\n",
      "* blog: damian.oquanta.info\n",
      "* email: info@oquanta.info\n",
      "* twitter: @oquanta"
     ]
    },
    {
     "cell_type": "markdown",
     "metadata": {},
     "source": [
      "y por otros lados tambi\u00e9n...\n",
      "----------------------------"
     ]
    }
   ],
   "metadata": {}
  }
 ]
}